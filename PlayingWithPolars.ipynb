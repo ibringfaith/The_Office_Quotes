{
  "nbformat": 4,
  "nbformat_minor": 0,
  "metadata": {
    "colab": {
      "provenance": [],
      "authorship_tag": "ABX9TyNVO5UMdtE8/dPSc2MZ2Y7d",
      "include_colab_link": true
    },
    "kernelspec": {
      "name": "python3",
      "display_name": "Python 3"
    },
    "language_info": {
      "name": "python"
    }
  },
  "cells": [
    {
      "cell_type": "markdown",
      "metadata": {
        "id": "view-in-github",
        "colab_type": "text"
      },
      "source": [
        "<a href=\"https://colab.research.google.com/github/ibringfaith/The_Office_Quotes/blob/main/PlayingWithPolars.ipynb\" target=\"_parent\"><img src=\"https://colab.research.google.com/assets/colab-badge.svg\" alt=\"Open In Colab\"/></a>"
      ]
    },
    {
      "cell_type": "code",
      "execution_count": 2,
      "metadata": {
        "colab": {
          "base_uri": "https://localhost:8080/"
        },
        "id": "BjCqXHeGdw89",
        "outputId": "47c6673a-5420-47e7-c28f-5bc6262c6d78"
      },
      "outputs": [
        {
          "output_type": "stream",
          "name": "stdout",
          "text": [
            "Requirement already satisfied: vaderSentiment in /usr/local/lib/python3.10/dist-packages (3.3.2)\n",
            "Requirement already satisfied: requests in /usr/local/lib/python3.10/dist-packages (from vaderSentiment) (2.31.0)\n",
            "Requirement already satisfied: charset-normalizer<4,>=2 in /usr/local/lib/python3.10/dist-packages (from requests->vaderSentiment) (3.3.2)\n",
            "Requirement already satisfied: idna<4,>=2.5 in /usr/local/lib/python3.10/dist-packages (from requests->vaderSentiment) (3.7)\n",
            "Requirement already satisfied: urllib3<3,>=1.21.1 in /usr/local/lib/python3.10/dist-packages (from requests->vaderSentiment) (2.0.7)\n",
            "Requirement already satisfied: certifi>=2017.4.17 in /usr/local/lib/python3.10/dist-packages (from requests->vaderSentiment) (2024.2.2)\n",
            "Requirement already satisfied: polars in /usr/local/lib/python3.10/dist-packages (0.20.2)\n"
          ]
        }
      ],
      "source": [
        "# import libraries used for this task\n",
        "\n",
        "# data\n",
        "import requests # to send HTTP requests\n",
        "import json # to handle API data\n",
        "\n",
        "# to apply VADER’s sentiment intensity analyzer\n",
        "!pip install vaderSentiment\n",
        "from vaderSentiment.vaderSentiment import SentimentIntensityAnalyzer\n",
        "\n",
        "# data visualization\n",
        "import matplotlib.pyplot as plt # for charts\n",
        "import seaborn as sns # for charts\n",
        "!pip install polars\n",
        "import polars as pl"
      ]
    },
    {
      "cell_type": "code",
      "source": [
        "# collect all the quote data from the API\n",
        "quotes = []\n",
        "for num_quote in range(1, 299): # there are a total of 298 quotes\n",
        "  quote = requests.get(\n",
        "      'https://officeapi.akashrajpurohit.com/quote/{}'.format(num_quote))\n",
        "  # accounting for status codes and encodings of responses\n",
        "  if (quote.status_code == 200):\n",
        "    quotes.append(quote.json())\n",
        "\n",
        "# store the collected API responses as a dataframe,\n",
        "# where each response is a row\n",
        "quotes_df = pl.DataFrame(quotes)"
      ],
      "metadata": {
        "id": "oW99M8Fyf7R3"
      },
      "execution_count": 5,
      "outputs": []
    },
    {
      "cell_type": "code",
      "source": [
        "print(quotes_df)"
      ],
      "metadata": {
        "colab": {
          "base_uri": "https://localhost:8080/"
        },
        "id": "OSj7LLqHg6OL",
        "outputId": "44b065e9-ab12-4360-92fc-0e037736ac0b"
      },
      "execution_count": 6,
      "outputs": [
        {
          "output_type": "stream",
          "name": "stdout",
          "text": [
            "shape: (298, 4)\n",
            "┌─────┬────────────────┬───────────────────────────────────┬───────────────────────────────────┐\n",
            "│ id  ┆ character      ┆ quote                             ┆ character_avatar_url              │\n",
            "│ --- ┆ ---            ┆ ---                               ┆ ---                               │\n",
            "│ i64 ┆ str            ┆ str                               ┆ str                               │\n",
            "╞═════╪════════════════╪═══════════════════════════════════╪═══════════════════════════════════╡\n",
            "│ 1   ┆ Michael Scott  ┆ Would I rather be feared or love… ┆ https://i.gyazo.com/5a3113ead3f3… │\n",
            "│ 2   ┆ Michael Scott  ┆ Wikipedia is the best thing ever… ┆ https://i.gyazo.com/5a3113ead3f3… │\n",
            "│ 3   ┆ Michael Scott  ┆ Guess what, I have flaws. What a… ┆ https://i.gyazo.com/5a3113ead3f3… │\n",
            "│ 4   ┆ Michael Scott  ┆ If I had a gun with two bullets … ┆ https://i.gyazo.com/5a3113ead3f3… │\n",
            "│ …   ┆ …              ┆ …                                 ┆ …                                 │\n",
            "│ 295 ┆ Stanley Hudson ┆ Did I stutter?                    ┆ https://i.gyazo.com/78f18dbfab67… │\n",
            "│ 296 ┆ Stanley Hudson ┆ I wake up every morning in a bed… ┆ https://i.gyazo.com/78f18dbfab67… │\n",
            "│ 297 ┆ Stanley Hudson ┆ It's like I used to tell my wife… ┆ https://i.gyazo.com/78f18dbfab67… │\n",
            "│ 298 ┆ Stanley Hudson ┆ Boy, have you lost your mind, 'c… ┆ https://i.gyazo.com/78f18dbfab67… │\n",
            "└─────┴────────────────┴───────────────────────────────────┴───────────────────────────────────┘\n"
          ]
        }
      ]
    },
    {
      "cell_type": "code",
      "source": [
        "# write the DataFrame to a csv file called output.csv\n",
        "quotes_df.write_csv(\"output.csv\")\n",
        "# read it back using read_csv\n",
        "quotes_df_csv = pl.read_csv(\"output.csv\")\n",
        "# print the result for inspection.\n",
        "print(quotes_df_csv)"
      ],
      "metadata": {
        "colab": {
          "base_uri": "https://localhost:8080/"
        },
        "id": "LcPftsKhhYtv",
        "outputId": "c9d979cb-32ba-4899-faa4-2936199051e0"
      },
      "execution_count": 14,
      "outputs": [
        {
          "output_type": "stream",
          "name": "stdout",
          "text": [
            "shape: (298, 4)\n",
            "┌─────┬────────────────┬───────────────────────────────────┬───────────────────────────────────┐\n",
            "│ id  ┆ character      ┆ quote                             ┆ character_avatar_url              │\n",
            "│ --- ┆ ---            ┆ ---                               ┆ ---                               │\n",
            "│ i64 ┆ str            ┆ str                               ┆ str                               │\n",
            "╞═════╪════════════════╪═══════════════════════════════════╪═══════════════════════════════════╡\n",
            "│ 1   ┆ Michael Scott  ┆ Would I rather be feared or love… ┆ https://i.gyazo.com/5a3113ead3f3… │\n",
            "│ 2   ┆ Michael Scott  ┆ Wikipedia is the best thing ever… ┆ https://i.gyazo.com/5a3113ead3f3… │\n",
            "│ 3   ┆ Michael Scott  ┆ Guess what, I have flaws. What a… ┆ https://i.gyazo.com/5a3113ead3f3… │\n",
            "│ 4   ┆ Michael Scott  ┆ If I had a gun with two bullets … ┆ https://i.gyazo.com/5a3113ead3f3… │\n",
            "│ …   ┆ …              ┆ …                                 ┆ …                                 │\n",
            "│ 295 ┆ Stanley Hudson ┆ Did I stutter?                    ┆ https://i.gyazo.com/78f18dbfab67… │\n",
            "│ 296 ┆ Stanley Hudson ┆ I wake up every morning in a bed… ┆ https://i.gyazo.com/78f18dbfab67… │\n",
            "│ 297 ┆ Stanley Hudson ┆ It's like I used to tell my wife… ┆ https://i.gyazo.com/78f18dbfab67… │\n",
            "│ 298 ┆ Stanley Hudson ┆ Boy, have you lost your mind, 'c… ┆ https://i.gyazo.com/78f18dbfab67… │\n",
            "└─────┴────────────────┴───────────────────────────────────┴───────────────────────────────────┘\n"
          ]
        }
      ]
    },
    {
      "cell_type": "code",
      "source": [
        "# select all columns\n",
        "quotes_df.select(pl.col(\"*\"))"
      ],
      "metadata": {
        "colab": {
          "base_uri": "https://localhost:8080/",
          "height": 882
        },
        "id": "-aWZkL12j_Qq",
        "outputId": "17efe13a-126e-4352-a2b0-8f7d9b3427ab"
      },
      "execution_count": 17,
      "outputs": [
        {
          "output_type": "execute_result",
          "data": {
            "text/plain": [
              "shape: (298, 4)\n",
              "┌─────┬────────────────┬───────────────────────────────────┬───────────────────────────────────┐\n",
              "│ id  ┆ character      ┆ quote                             ┆ character_avatar_url              │\n",
              "│ --- ┆ ---            ┆ ---                               ┆ ---                               │\n",
              "│ i64 ┆ str            ┆ str                               ┆ str                               │\n",
              "╞═════╪════════════════╪═══════════════════════════════════╪═══════════════════════════════════╡\n",
              "│ 1   ┆ Michael Scott  ┆ Would I rather be feared or love… ┆ https://i.gyazo.com/5a3113ead3f3… │\n",
              "│ 2   ┆ Michael Scott  ┆ Wikipedia is the best thing ever… ┆ https://i.gyazo.com/5a3113ead3f3… │\n",
              "│ 3   ┆ Michael Scott  ┆ Guess what, I have flaws. What a… ┆ https://i.gyazo.com/5a3113ead3f3… │\n",
              "│ 4   ┆ Michael Scott  ┆ If I had a gun with two bullets … ┆ https://i.gyazo.com/5a3113ead3f3… │\n",
              "│ …   ┆ …              ┆ …                                 ┆ …                                 │\n",
              "│ 295 ┆ Stanley Hudson ┆ Did I stutter?                    ┆ https://i.gyazo.com/78f18dbfab67… │\n",
              "│ 296 ┆ Stanley Hudson ┆ I wake up every morning in a bed… ┆ https://i.gyazo.com/78f18dbfab67… │\n",
              "│ 297 ┆ Stanley Hudson ┆ It's like I used to tell my wife… ┆ https://i.gyazo.com/78f18dbfab67… │\n",
              "│ 298 ┆ Stanley Hudson ┆ Boy, have you lost your mind, 'c… ┆ https://i.gyazo.com/78f18dbfab67… │\n",
              "└─────┴────────────────┴───────────────────────────────────┴───────────────────────────────────┘"
            ],
            "text/html": [
              "<div><style>\n",
              ".dataframe > thead > tr,\n",
              ".dataframe > tbody > tr {\n",
              "  text-align: right;\n",
              "  white-space: pre-wrap;\n",
              "}\n",
              "</style>\n",
              "<small>shape: (298, 4)</small><table border=\"1\" class=\"dataframe\"><thead><tr><th>id</th><th>character</th><th>quote</th><th>character_avatar_url</th></tr><tr><td>i64</td><td>str</td><td>str</td><td>str</td></tr></thead><tbody><tr><td>1</td><td>&quot;Michael Scott&quot;</td><td>&quot;Would I rather…</td><td>&quot;https://i.gyaz…</td></tr><tr><td>2</td><td>&quot;Michael Scott&quot;</td><td>&quot;Wikipedia is t…</td><td>&quot;https://i.gyaz…</td></tr><tr><td>3</td><td>&quot;Michael Scott&quot;</td><td>&quot;Guess what, I …</td><td>&quot;https://i.gyaz…</td></tr><tr><td>4</td><td>&quot;Michael Scott&quot;</td><td>&quot;If I had a gun…</td><td>&quot;https://i.gyaz…</td></tr><tr><td>5</td><td>&quot;Michael Scott&quot;</td><td>&quot;I saved a life…</td><td>&quot;https://i.gyaz…</td></tr><tr><td>6</td><td>&quot;Michael Scott&quot;</td><td>&quot;No, I’m not go…</td><td>&quot;https://i.gyaz…</td></tr><tr><td>7</td><td>&quot;Michael Scott&quot;</td><td>&quot;An office is n…</td><td>&quot;https://i.gyaz…</td></tr><tr><td>8</td><td>&quot;Michael Scott&quot;</td><td>&quot;Do I need to b…</td><td>&quot;https://i.gyaz…</td></tr><tr><td>9</td><td>&quot;Michael Scott&quot;</td><td>&quot;Sometimes I’ll…</td><td>&quot;https://i.gyaz…</td></tr><tr><td>10</td><td>&quot;Michael Scott&quot;</td><td>&quot;Do I have a sp…</td><td>&quot;https://i.gyaz…</td></tr><tr><td>11</td><td>&quot;Michael Scott&quot;</td><td>&quot;They say on yo…</td><td>&quot;https://i.gyaz…</td></tr><tr><td>12</td><td>&quot;Michael Scott&quot;</td><td>&quot;Make friends f…</td><td>&quot;https://i.gyaz…</td></tr><tr><td>&hellip;</td><td>&hellip;</td><td>&hellip;</td><td>&hellip;</td></tr><tr><td>287</td><td>&quot;Jim Halpert&quot;</td><td>&quot;Not enough for…</td><td>&quot;https://i.gyaz…</td></tr><tr><td>288</td><td>&quot;Jim Halpert&quot;</td><td>&quot;Michael will b…</td><td>&quot;https://i.gyaz…</td></tr><tr><td>289</td><td>&quot;Jim Halpert&quot;</td><td>&quot;Hey, what has …</td><td>&quot;https://i.gyaz…</td></tr><tr><td>290</td><td>&quot;Kevin Malone&quot;</td><td>&quot;When I Preside…</td><td>&quot;https://i.gyaz…</td></tr><tr><td>291</td><td>&quot;Kelly Kapoor&quot;</td><td>&quot;I don&#x27;t talk t…</td><td>&quot;https://i.gyaz…</td></tr><tr><td>292</td><td>&quot;Kelly Kapoor&quot;</td><td>&quot;I talk a lot, …</td><td>&quot;https://i.gyaz…</td></tr><tr><td>293</td><td>&quot;Kelly Kapoor&quot;</td><td>&quot;I am one of th…</td><td>&quot;https://i.gyaz…</td></tr><tr><td>294</td><td>&quot;Kelly Kapoor&quot;</td><td>&quot;This day is BA…</td><td>&quot;https://i.gyaz…</td></tr><tr><td>295</td><td>&quot;Stanley Hudson…</td><td>&quot;Did I stutter?…</td><td>&quot;https://i.gyaz…</td></tr><tr><td>296</td><td>&quot;Stanley Hudson…</td><td>&quot;I wake up ever…</td><td>&quot;https://i.gyaz…</td></tr><tr><td>297</td><td>&quot;Stanley Hudson…</td><td>&quot;It&#x27;s like I us…</td><td>&quot;https://i.gyaz…</td></tr><tr><td>298</td><td>&quot;Stanley Hudson…</td><td>&quot;Boy, have you …</td><td>&quot;https://i.gyaz…</td></tr></tbody></table></div>"
            ]
          },
          "metadata": {},
          "execution_count": 17
        }
      ]
    },
    {
      "cell_type": "code",
      "source": [
        "# select two columns\n",
        "quotes_df.select(pl.col(\"character\", \"quote\"))"
      ],
      "metadata": {
        "colab": {
          "base_uri": "https://localhost:8080/",
          "height": 882
        },
        "id": "r9FZJE9QkJFT",
        "outputId": "95ba9bf7-278e-4bcb-c2dc-80920a4c6b17"
      },
      "execution_count": 18,
      "outputs": [
        {
          "output_type": "execute_result",
          "data": {
            "text/plain": [
              "shape: (298, 2)\n",
              "┌────────────────┬───────────────────────────────────┐\n",
              "│ character      ┆ quote                             │\n",
              "│ ---            ┆ ---                               │\n",
              "│ str            ┆ str                               │\n",
              "╞════════════════╪═══════════════════════════════════╡\n",
              "│ Michael Scott  ┆ Would I rather be feared or love… │\n",
              "│ Michael Scott  ┆ Wikipedia is the best thing ever… │\n",
              "│ Michael Scott  ┆ Guess what, I have flaws. What a… │\n",
              "│ Michael Scott  ┆ If I had a gun with two bullets … │\n",
              "│ …              ┆ …                                 │\n",
              "│ Stanley Hudson ┆ Did I stutter?                    │\n",
              "│ Stanley Hudson ┆ I wake up every morning in a bed… │\n",
              "│ Stanley Hudson ┆ It's like I used to tell my wife… │\n",
              "│ Stanley Hudson ┆ Boy, have you lost your mind, 'c… │\n",
              "└────────────────┴───────────────────────────────────┘"
            ],
            "text/html": [
              "<div><style>\n",
              ".dataframe > thead > tr,\n",
              ".dataframe > tbody > tr {\n",
              "  text-align: right;\n",
              "  white-space: pre-wrap;\n",
              "}\n",
              "</style>\n",
              "<small>shape: (298, 2)</small><table border=\"1\" class=\"dataframe\"><thead><tr><th>character</th><th>quote</th></tr><tr><td>str</td><td>str</td></tr></thead><tbody><tr><td>&quot;Michael Scott&quot;</td><td>&quot;Would I rather…</td></tr><tr><td>&quot;Michael Scott&quot;</td><td>&quot;Wikipedia is t…</td></tr><tr><td>&quot;Michael Scott&quot;</td><td>&quot;Guess what, I …</td></tr><tr><td>&quot;Michael Scott&quot;</td><td>&quot;If I had a gun…</td></tr><tr><td>&quot;Michael Scott&quot;</td><td>&quot;I saved a life…</td></tr><tr><td>&quot;Michael Scott&quot;</td><td>&quot;No, I’m not go…</td></tr><tr><td>&quot;Michael Scott&quot;</td><td>&quot;An office is n…</td></tr><tr><td>&quot;Michael Scott&quot;</td><td>&quot;Do I need to b…</td></tr><tr><td>&quot;Michael Scott&quot;</td><td>&quot;Sometimes I’ll…</td></tr><tr><td>&quot;Michael Scott&quot;</td><td>&quot;Do I have a sp…</td></tr><tr><td>&quot;Michael Scott&quot;</td><td>&quot;They say on yo…</td></tr><tr><td>&quot;Michael Scott&quot;</td><td>&quot;Make friends f…</td></tr><tr><td>&hellip;</td><td>&hellip;</td></tr><tr><td>&quot;Jim Halpert&quot;</td><td>&quot;Not enough for…</td></tr><tr><td>&quot;Jim Halpert&quot;</td><td>&quot;Michael will b…</td></tr><tr><td>&quot;Jim Halpert&quot;</td><td>&quot;Hey, what has …</td></tr><tr><td>&quot;Kevin Malone&quot;</td><td>&quot;When I Preside…</td></tr><tr><td>&quot;Kelly Kapoor&quot;</td><td>&quot;I don&#x27;t talk t…</td></tr><tr><td>&quot;Kelly Kapoor&quot;</td><td>&quot;I talk a lot, …</td></tr><tr><td>&quot;Kelly Kapoor&quot;</td><td>&quot;I am one of th…</td></tr><tr><td>&quot;Kelly Kapoor&quot;</td><td>&quot;This day is BA…</td></tr><tr><td>&quot;Stanley Hudson…</td><td>&quot;Did I stutter?…</td></tr><tr><td>&quot;Stanley Hudson…</td><td>&quot;I wake up ever…</td></tr><tr><td>&quot;Stanley Hudson…</td><td>&quot;It&#x27;s like I us…</td></tr><tr><td>&quot;Stanley Hudson…</td><td>&quot;Boy, have you …</td></tr></tbody></table></div>"
            ]
          },
          "metadata": {},
          "execution_count": 18
        }
      ]
    },
    {
      "cell_type": "code",
      "source": [
        "# filter between id numbers\n",
        "quotes_df.filter(\n",
        "    pl.col(\"id\").is_between(107, 152)\n",
        ")"
      ],
      "metadata": {
        "colab": {
          "base_uri": "https://localhost:8080/",
          "height": 882
        },
        "id": "J2K6yjGPkt5w",
        "outputId": "cec49082-261d-4ce1-92ef-bf322c3192a7"
      },
      "execution_count": 22,
      "outputs": [
        {
          "output_type": "execute_result",
          "data": {
            "text/plain": [
              "shape: (46, 4)\n",
              "┌─────┬────────────────┬───────────────────────────────────┬───────────────────────────────────┐\n",
              "│ id  ┆ character      ┆ quote                             ┆ character_avatar_url              │\n",
              "│ --- ┆ ---            ┆ ---                               ┆ ---                               │\n",
              "│ i64 ┆ str            ┆ str                               ┆ str                               │\n",
              "╞═════╪════════════════╪═══════════════════════════════════╪═══════════════════════════════════╡\n",
              "│ 107 ┆ Michael Scott  ┆ I’m not a millionaire. I thought… ┆ https://i.gyazo.com/5a3113ead3f3… │\n",
              "│ 108 ┆ Michael Scott  ┆ I’m not usually the butt of the … ┆ https://i.gyazo.com/5a3113ead3f3… │\n",
              "│ 109 ┆ Michael Scott  ┆ The rules of shotgun are very si… ┆ https://i.gyazo.com/5a3113ead3f3… │\n",
              "│ 110 ┆ Michael Scott  ┆ You are as creepy as a real seri… ┆ https://i.gyazo.com/5a3113ead3f3… │\n",
              "│ …   ┆ …              ┆ …                                 ┆ …                                 │\n",
              "│ 149 ┆ Dwight Schrute ┆ Yes. I have decided to shun Andy… ┆ https://i.gyazo.com/dd60242b96d4… │\n",
              "│ 150 ┆ Dwight Schrute ┆ I don’t have a lot of experience… ┆ https://i.gyazo.com/dd60242b96d4… │\n",
              "│ 151 ┆ Dwight Schrute ┆ You better learn your rules. If … ┆ https://i.gyazo.com/dd60242b96d4… │\n",
              "│ 152 ┆ Dwight Schrute ┆ Nothing stresses me out. Except … ┆ https://i.gyazo.com/dd60242b96d4… │\n",
              "└─────┴────────────────┴───────────────────────────────────┴───────────────────────────────────┘"
            ],
            "text/html": [
              "<div><style>\n",
              ".dataframe > thead > tr,\n",
              ".dataframe > tbody > tr {\n",
              "  text-align: right;\n",
              "  white-space: pre-wrap;\n",
              "}\n",
              "</style>\n",
              "<small>shape: (46, 4)</small><table border=\"1\" class=\"dataframe\"><thead><tr><th>id</th><th>character</th><th>quote</th><th>character_avatar_url</th></tr><tr><td>i64</td><td>str</td><td>str</td><td>str</td></tr></thead><tbody><tr><td>107</td><td>&quot;Michael Scott&quot;</td><td>&quot;I’m not a mill…</td><td>&quot;https://i.gyaz…</td></tr><tr><td>108</td><td>&quot;Michael Scott&quot;</td><td>&quot;I’m not usuall…</td><td>&quot;https://i.gyaz…</td></tr><tr><td>109</td><td>&quot;Michael Scott&quot;</td><td>&quot;The rules of s…</td><td>&quot;https://i.gyaz…</td></tr><tr><td>110</td><td>&quot;Michael Scott&quot;</td><td>&quot;You are as cre…</td><td>&quot;https://i.gyaz…</td></tr><tr><td>111</td><td>&quot;Michael Scott&quot;</td><td>&quot;You all took a…</td><td>&quot;https://i.gyaz…</td></tr><tr><td>112</td><td>&quot;Michael Scott&quot;</td><td>&quot;I fell in love…</td><td>&quot;https://i.gyaz…</td></tr><tr><td>113</td><td>&quot;Michael Scott&quot;</td><td>&quot;Last, and poss…</td><td>&quot;https://i.gyaz…</td></tr><tr><td>114</td><td>&quot;Michael Scott&quot;</td><td>&quot;My philosophy …</td><td>&quot;https://i.gyaz…</td></tr><tr><td>115</td><td>&quot;Michael Scott&quot;</td><td>&quot;Dwight, you ig…</td><td>&quot;https://i.gyaz…</td></tr><tr><td>116</td><td>&quot;Michael Scott&quot;</td><td>&quot;If I had a gun…</td><td>&quot;https://i.gyaz…</td></tr><tr><td>117</td><td>&quot;Michael Scott&quot;</td><td>&quot;Nobody should …</td><td>&quot;https://i.gyaz…</td></tr><tr><td>118</td><td>&quot;Michael Scott&quot;</td><td>&quot;You miss 100 p…</td><td>&quot;https://i.gyaz…</td></tr><tr><td>&hellip;</td><td>&hellip;</td><td>&hellip;</td><td>&hellip;</td></tr><tr><td>141</td><td>&quot;Dwight Schrute…</td><td>&quot;Bread is the p…</td><td>&quot;https://i.gyaz…</td></tr><tr><td>142</td><td>&quot;Dwight Schrute…</td><td>&quot;It’s better to…</td><td>&quot;https://i.gyaz…</td></tr><tr><td>143</td><td>&quot;Dwight Schrute…</td><td>&quot;In the end, th…</td><td>&quot;https://i.gyaz…</td></tr><tr><td>144</td><td>&quot;Dwight Schrute…</td><td>&quot;How would I de…</td><td>&quot;https://i.gyaz…</td></tr><tr><td>145</td><td>&quot;Dwight Schrute…</td><td>&quot;I wish I could…</td><td>&quot;https://i.gyaz…</td></tr><tr><td>146</td><td>&quot;Dwight Schrute…</td><td>&quot;People underes…</td><td>&quot;https://i.gyaz…</td></tr><tr><td>147</td><td>&quot;Dwight Schrute…</td><td>&quot;Why are all th…</td><td>&quot;https://i.gyaz…</td></tr><tr><td>148</td><td>&quot;Dwight Schrute…</td><td>&quot;When someone s…</td><td>&quot;https://i.gyaz…</td></tr><tr><td>149</td><td>&quot;Dwight Schrute…</td><td>&quot;Yes. I have de…</td><td>&quot;https://i.gyaz…</td></tr><tr><td>150</td><td>&quot;Dwight Schrute…</td><td>&quot;I don’t have a…</td><td>&quot;https://i.gyaz…</td></tr><tr><td>151</td><td>&quot;Dwight Schrute…</td><td>&quot;You better lea…</td><td>&quot;https://i.gyaz…</td></tr><tr><td>152</td><td>&quot;Dwight Schrute…</td><td>&quot;Nothing stress…</td><td>&quot;https://i.gyaz…</td></tr></tbody></table></div>"
            ]
          },
          "metadata": {},
          "execution_count": 22
        }
      ]
    },
    {
      "cell_type": "code",
      "source": [
        "# filter to Michael Scott quotes\n",
        "quotes_df.filter(\n",
        "    pl.col(\"character\") == \"Michael Scott\"\n",
        ")"
      ],
      "metadata": {
        "colab": {
          "base_uri": "https://localhost:8080/",
          "height": 882
        },
        "id": "opEuuvJDlWoL",
        "outputId": "2c1db119-fb13-4744-8565-91e400598fa9"
      },
      "execution_count": 29,
      "outputs": [
        {
          "output_type": "execute_result",
          "data": {
            "text/plain": [
              "shape: (131, 4)\n",
              "┌─────┬───────────────┬───────────────────────────────────┬───────────────────────────────────┐\n",
              "│ id  ┆ character     ┆ quote                             ┆ character_avatar_url              │\n",
              "│ --- ┆ ---           ┆ ---                               ┆ ---                               │\n",
              "│ i64 ┆ str           ┆ str                               ┆ str                               │\n",
              "╞═════╪═══════════════╪═══════════════════════════════════╪═══════════════════════════════════╡\n",
              "│ 1   ┆ Michael Scott ┆ Would I rather be feared or love… ┆ https://i.gyazo.com/5a3113ead3f3… │\n",
              "│ 2   ┆ Michael Scott ┆ Wikipedia is the best thing ever… ┆ https://i.gyazo.com/5a3113ead3f3… │\n",
              "│ 3   ┆ Michael Scott ┆ Guess what, I have flaws. What a… ┆ https://i.gyazo.com/5a3113ead3f3… │\n",
              "│ 4   ┆ Michael Scott ┆ If I had a gun with two bullets … ┆ https://i.gyazo.com/5a3113ead3f3… │\n",
              "│ …   ┆ …             ┆ …                                 ┆ …                                 │\n",
              "│ 128 ┆ Michael Scott ┆ The only time I set the bar low … ┆ https://i.gyazo.com/5a3113ead3f3… │\n",
              "│ 129 ┆ Michael Scott ┆ Don’t ever, for any reason, do a… ┆ https://i.gyazo.com/5a3113ead3f3… │\n",
              "│ 130 ┆ Michael Scott ┆ It takes an advanced sense of hu… ┆ https://i.gyazo.com/5a3113ead3f3… │\n",
              "│ 131 ┆ Michael Scott ┆ I’m not gonna cry over it. I did… ┆ https://i.gyazo.com/5a3113ead3f3… │\n",
              "└─────┴───────────────┴───────────────────────────────────┴───────────────────────────────────┘"
            ],
            "text/html": [
              "<div><style>\n",
              ".dataframe > thead > tr,\n",
              ".dataframe > tbody > tr {\n",
              "  text-align: right;\n",
              "  white-space: pre-wrap;\n",
              "}\n",
              "</style>\n",
              "<small>shape: (131, 4)</small><table border=\"1\" class=\"dataframe\"><thead><tr><th>id</th><th>character</th><th>quote</th><th>character_avatar_url</th></tr><tr><td>i64</td><td>str</td><td>str</td><td>str</td></tr></thead><tbody><tr><td>1</td><td>&quot;Michael Scott&quot;</td><td>&quot;Would I rather…</td><td>&quot;https://i.gyaz…</td></tr><tr><td>2</td><td>&quot;Michael Scott&quot;</td><td>&quot;Wikipedia is t…</td><td>&quot;https://i.gyaz…</td></tr><tr><td>3</td><td>&quot;Michael Scott&quot;</td><td>&quot;Guess what, I …</td><td>&quot;https://i.gyaz…</td></tr><tr><td>4</td><td>&quot;Michael Scott&quot;</td><td>&quot;If I had a gun…</td><td>&quot;https://i.gyaz…</td></tr><tr><td>5</td><td>&quot;Michael Scott&quot;</td><td>&quot;I saved a life…</td><td>&quot;https://i.gyaz…</td></tr><tr><td>6</td><td>&quot;Michael Scott&quot;</td><td>&quot;No, I’m not go…</td><td>&quot;https://i.gyaz…</td></tr><tr><td>7</td><td>&quot;Michael Scott&quot;</td><td>&quot;An office is n…</td><td>&quot;https://i.gyaz…</td></tr><tr><td>8</td><td>&quot;Michael Scott&quot;</td><td>&quot;Do I need to b…</td><td>&quot;https://i.gyaz…</td></tr><tr><td>9</td><td>&quot;Michael Scott&quot;</td><td>&quot;Sometimes I’ll…</td><td>&quot;https://i.gyaz…</td></tr><tr><td>10</td><td>&quot;Michael Scott&quot;</td><td>&quot;Do I have a sp…</td><td>&quot;https://i.gyaz…</td></tr><tr><td>11</td><td>&quot;Michael Scott&quot;</td><td>&quot;They say on yo…</td><td>&quot;https://i.gyaz…</td></tr><tr><td>12</td><td>&quot;Michael Scott&quot;</td><td>&quot;Make friends f…</td><td>&quot;https://i.gyaz…</td></tr><tr><td>&hellip;</td><td>&hellip;</td><td>&hellip;</td><td>&hellip;</td></tr><tr><td>120</td><td>&quot;Michael Scott&quot;</td><td>&quot;It is St. Patr…</td><td>&quot;https://i.gyaz…</td></tr><tr><td>121</td><td>&quot;Michael Scott&quot;</td><td>&quot;It’s Britney, …</td><td>&quot;https://i.gyaz…</td></tr><tr><td>122</td><td>&quot;Michael Scott&quot;</td><td>&quot;You don’t know…</td><td>&quot;https://i.gyaz…</td></tr><tr><td>123</td><td>&quot;Michael Scott&quot;</td><td>&quot;I’m sinking a …</td><td>&quot;https://i.gyaz…</td></tr><tr><td>124</td><td>&quot;Michael Scott&quot;</td><td>&quot;When I was fiv…</td><td>&quot;https://i.gyaz…</td></tr><tr><td>125</td><td>&quot;Michael Scott&quot;</td><td>&quot;Jim and I are …</td><td>&quot;https://i.gyaz…</td></tr><tr><td>126</td><td>&quot;Michael Scott&quot;</td><td>&quot;As it turns ou…</td><td>&quot;https://i.gyaz…</td></tr><tr><td>127</td><td>&quot;Michael Scott&quot;</td><td>&quot;They always sa…</td><td>&quot;https://i.gyaz…</td></tr><tr><td>128</td><td>&quot;Michael Scott&quot;</td><td>&quot;The only time …</td><td>&quot;https://i.gyaz…</td></tr><tr><td>129</td><td>&quot;Michael Scott&quot;</td><td>&quot;Don’t ever, fo…</td><td>&quot;https://i.gyaz…</td></tr><tr><td>130</td><td>&quot;Michael Scott&quot;</td><td>&quot;It takes an ad…</td><td>&quot;https://i.gyaz…</td></tr><tr><td>131</td><td>&quot;Michael Scott&quot;</td><td>&quot;I’m not gonna …</td><td>&quot;https://i.gyaz…</td></tr></tbody></table></div>"
            ]
          },
          "metadata": {},
          "execution_count": 29
        }
      ]
    },
    {
      "cell_type": "code",
      "source": [
        "# add two new columns\n",
        "quotes_df.with_columns(pl.col(\"id\").sum().alias(\"id_sum\"), (pl.col(\"id\") + 42).alias(\"id+42\"))"
      ],
      "metadata": {
        "colab": {
          "base_uri": "https://localhost:8080/",
          "height": 882
        },
        "id": "RmkzGJ7KmS-T",
        "outputId": "67d4405d-eb52-4ce9-de93-d35b2ffedd7c"
      },
      "execution_count": 30,
      "outputs": [
        {
          "output_type": "execute_result",
          "data": {
            "text/plain": [
              "shape: (298, 6)\n",
              "┌─────┬────────────────┬─────────────────────────────┬────────────────────────────┬────────┬───────┐\n",
              "│ id  ┆ character      ┆ quote                       ┆ character_avatar_url       ┆ id_sum ┆ id+42 │\n",
              "│ --- ┆ ---            ┆ ---                         ┆ ---                        ┆ ---    ┆ ---   │\n",
              "│ i64 ┆ str            ┆ str                         ┆ str                        ┆ i64    ┆ i64   │\n",
              "╞═════╪════════════════╪═════════════════════════════╪════════════════════════════╪════════╪═══════╡\n",
              "│ 1   ┆ Michael Scott  ┆ Would I rather be feared or ┆ https://i.gyazo.com/5a3113 ┆ 44551  ┆ 43    │\n",
              "│     ┆                ┆ love…                       ┆ ead3f3…                    ┆        ┆       │\n",
              "│ 2   ┆ Michael Scott  ┆ Wikipedia is the best thing ┆ https://i.gyazo.com/5a3113 ┆ 44551  ┆ 44    │\n",
              "│     ┆                ┆ ever…                       ┆ ead3f3…                    ┆        ┆       │\n",
              "│ 3   ┆ Michael Scott  ┆ Guess what, I have flaws.   ┆ https://i.gyazo.com/5a3113 ┆ 44551  ┆ 45    │\n",
              "│     ┆                ┆ What a…                     ┆ ead3f3…                    ┆        ┆       │\n",
              "│ 4   ┆ Michael Scott  ┆ If I had a gun with two     ┆ https://i.gyazo.com/5a3113 ┆ 44551  ┆ 46    │\n",
              "│     ┆                ┆ bullets …                   ┆ ead3f3…                    ┆        ┆       │\n",
              "│ …   ┆ …              ┆ …                           ┆ …                          ┆ …      ┆ …     │\n",
              "│ 295 ┆ Stanley Hudson ┆ Did I stutter?              ┆ https://i.gyazo.com/78f18d ┆ 44551  ┆ 337   │\n",
              "│     ┆                ┆                             ┆ bfab67…                    ┆        ┆       │\n",
              "│ 296 ┆ Stanley Hudson ┆ I wake up every morning in  ┆ https://i.gyazo.com/78f18d ┆ 44551  ┆ 338   │\n",
              "│     ┆                ┆ a bed…                      ┆ bfab67…                    ┆        ┆       │\n",
              "│ 297 ┆ Stanley Hudson ┆ It's like I used to tell my ┆ https://i.gyazo.com/78f18d ┆ 44551  ┆ 339   │\n",
              "│     ┆                ┆ wife…                       ┆ bfab67…                    ┆        ┆       │\n",
              "│ 298 ┆ Stanley Hudson ┆ Boy, have you lost your     ┆ https://i.gyazo.com/78f18d ┆ 44551  ┆ 340   │\n",
              "│     ┆                ┆ mind, 'c…                   ┆ bfab67…                    ┆        ┆       │\n",
              "└─────┴────────────────┴─────────────────────────────┴────────────────────────────┴────────┴───────┘"
            ],
            "text/html": [
              "<div><style>\n",
              ".dataframe > thead > tr,\n",
              ".dataframe > tbody > tr {\n",
              "  text-align: right;\n",
              "  white-space: pre-wrap;\n",
              "}\n",
              "</style>\n",
              "<small>shape: (298, 6)</small><table border=\"1\" class=\"dataframe\"><thead><tr><th>id</th><th>character</th><th>quote</th><th>character_avatar_url</th><th>id_sum</th><th>id+42</th></tr><tr><td>i64</td><td>str</td><td>str</td><td>str</td><td>i64</td><td>i64</td></tr></thead><tbody><tr><td>1</td><td>&quot;Michael Scott&quot;</td><td>&quot;Would I rather…</td><td>&quot;https://i.gyaz…</td><td>44551</td><td>43</td></tr><tr><td>2</td><td>&quot;Michael Scott&quot;</td><td>&quot;Wikipedia is t…</td><td>&quot;https://i.gyaz…</td><td>44551</td><td>44</td></tr><tr><td>3</td><td>&quot;Michael Scott&quot;</td><td>&quot;Guess what, I …</td><td>&quot;https://i.gyaz…</td><td>44551</td><td>45</td></tr><tr><td>4</td><td>&quot;Michael Scott&quot;</td><td>&quot;If I had a gun…</td><td>&quot;https://i.gyaz…</td><td>44551</td><td>46</td></tr><tr><td>5</td><td>&quot;Michael Scott&quot;</td><td>&quot;I saved a life…</td><td>&quot;https://i.gyaz…</td><td>44551</td><td>47</td></tr><tr><td>6</td><td>&quot;Michael Scott&quot;</td><td>&quot;No, I’m not go…</td><td>&quot;https://i.gyaz…</td><td>44551</td><td>48</td></tr><tr><td>7</td><td>&quot;Michael Scott&quot;</td><td>&quot;An office is n…</td><td>&quot;https://i.gyaz…</td><td>44551</td><td>49</td></tr><tr><td>8</td><td>&quot;Michael Scott&quot;</td><td>&quot;Do I need to b…</td><td>&quot;https://i.gyaz…</td><td>44551</td><td>50</td></tr><tr><td>9</td><td>&quot;Michael Scott&quot;</td><td>&quot;Sometimes I’ll…</td><td>&quot;https://i.gyaz…</td><td>44551</td><td>51</td></tr><tr><td>10</td><td>&quot;Michael Scott&quot;</td><td>&quot;Do I have a sp…</td><td>&quot;https://i.gyaz…</td><td>44551</td><td>52</td></tr><tr><td>11</td><td>&quot;Michael Scott&quot;</td><td>&quot;They say on yo…</td><td>&quot;https://i.gyaz…</td><td>44551</td><td>53</td></tr><tr><td>12</td><td>&quot;Michael Scott&quot;</td><td>&quot;Make friends f…</td><td>&quot;https://i.gyaz…</td><td>44551</td><td>54</td></tr><tr><td>&hellip;</td><td>&hellip;</td><td>&hellip;</td><td>&hellip;</td><td>&hellip;</td><td>&hellip;</td></tr><tr><td>287</td><td>&quot;Jim Halpert&quot;</td><td>&quot;Not enough for…</td><td>&quot;https://i.gyaz…</td><td>44551</td><td>329</td></tr><tr><td>288</td><td>&quot;Jim Halpert&quot;</td><td>&quot;Michael will b…</td><td>&quot;https://i.gyaz…</td><td>44551</td><td>330</td></tr><tr><td>289</td><td>&quot;Jim Halpert&quot;</td><td>&quot;Hey, what has …</td><td>&quot;https://i.gyaz…</td><td>44551</td><td>331</td></tr><tr><td>290</td><td>&quot;Kevin Malone&quot;</td><td>&quot;When I Preside…</td><td>&quot;https://i.gyaz…</td><td>44551</td><td>332</td></tr><tr><td>291</td><td>&quot;Kelly Kapoor&quot;</td><td>&quot;I don&#x27;t talk t…</td><td>&quot;https://i.gyaz…</td><td>44551</td><td>333</td></tr><tr><td>292</td><td>&quot;Kelly Kapoor&quot;</td><td>&quot;I talk a lot, …</td><td>&quot;https://i.gyaz…</td><td>44551</td><td>334</td></tr><tr><td>293</td><td>&quot;Kelly Kapoor&quot;</td><td>&quot;I am one of th…</td><td>&quot;https://i.gyaz…</td><td>44551</td><td>335</td></tr><tr><td>294</td><td>&quot;Kelly Kapoor&quot;</td><td>&quot;This day is BA…</td><td>&quot;https://i.gyaz…</td><td>44551</td><td>336</td></tr><tr><td>295</td><td>&quot;Stanley Hudson…</td><td>&quot;Did I stutter?…</td><td>&quot;https://i.gyaz…</td><td>44551</td><td>337</td></tr><tr><td>296</td><td>&quot;Stanley Hudson…</td><td>&quot;I wake up ever…</td><td>&quot;https://i.gyaz…</td><td>44551</td><td>338</td></tr><tr><td>297</td><td>&quot;Stanley Hudson…</td><td>&quot;It&#x27;s like I us…</td><td>&quot;https://i.gyaz…</td><td>44551</td><td>339</td></tr><tr><td>298</td><td>&quot;Stanley Hudson…</td><td>&quot;Boy, have you …</td><td>&quot;https://i.gyaz…</td><td>44551</td><td>340</td></tr></tbody></table></div>"
            ]
          },
          "metadata": {},
          "execution_count": 30
        }
      ]
    },
    {
      "cell_type": "markdown",
      "source": [
        "Using the group_by functionality"
      ],
      "metadata": {
        "id": "pgxQmla7odLp"
      }
    },
    {
      "cell_type": "code",
      "source": [
        "quotes_df.group_by(\"character\", maintain_order=True).len()"
      ],
      "metadata": {
        "colab": {
          "base_uri": "https://localhost:8080/",
          "height": 144
        },
        "id": "SJriQCe7mpH2",
        "outputId": "170323ca-5ecb-48dd-855c-20e5a614261c"
      },
      "execution_count": 35,
      "outputs": [
        {
          "output_type": "error",
          "ename": "AttributeError",
          "evalue": "'GroupBy' object has no attribute 'len'",
          "traceback": [
            "\u001b[0;31m---------------------------------------------------------------------------\u001b[0m",
            "\u001b[0;31mAttributeError\u001b[0m                            Traceback (most recent call last)",
            "\u001b[0;32m<ipython-input-35-7f02665c7992>\u001b[0m in \u001b[0;36m<cell line: 1>\u001b[0;34m()\u001b[0m\n\u001b[0;32m----> 1\u001b[0;31m \u001b[0mquotes_df\u001b[0m\u001b[0;34m.\u001b[0m\u001b[0mgroup_by\u001b[0m\u001b[0;34m(\u001b[0m\u001b[0;34m\"character\"\u001b[0m\u001b[0;34m,\u001b[0m \u001b[0mmaintain_order\u001b[0m\u001b[0;34m=\u001b[0m\u001b[0;32mTrue\u001b[0m\u001b[0;34m)\u001b[0m\u001b[0;34m.\u001b[0m\u001b[0mlen\u001b[0m\u001b[0;34m(\u001b[0m\u001b[0;34m)\u001b[0m\u001b[0;34m\u001b[0m\u001b[0;34m\u001b[0m\u001b[0m\n\u001b[0m",
            "\u001b[0;31mAttributeError\u001b[0m: 'GroupBy' object has no attribute 'len'"
          ]
        }
      ]
    },
    {
      "cell_type": "code",
      "source": [
        "quotes_df.group_by(\"character\", maintain_order=True).agg(\n",
        "    pl.col(\"id\", \"character\").count().alias(\"num_quotes\"),\n",
        "    pl.col(\"id\", \"character\").sum().alias(\"id_sum\"),\n",
        ")"
      ],
      "metadata": {
        "colab": {
          "base_uri": "https://localhost:8080/",
          "height": 412
        },
        "id": "9JpwTLBLn7NQ",
        "outputId": "e7e582a6-7841-4bcd-cebb-70628919025b"
      },
      "execution_count": 38,
      "outputs": [
        {
          "output_type": "execute_result",
          "data": {
            "text/plain": [
              "shape: (10, 3)\n",
              "┌────────────────┬────────────┬────────┐\n",
              "│ character      ┆ num_quotes ┆ id_sum │\n",
              "│ ---            ┆ ---        ┆ ---    │\n",
              "│ str            ┆ u32        ┆ i64    │\n",
              "╞════════════════╪════════════╪════════╡\n",
              "│ Michael Scott  ┆ 131        ┆ 8646   │\n",
              "│ Dwight Schrute ┆ 126        ┆ 24507  │\n",
              "│ Creed Bratton  ┆ 13         ┆ 3432   │\n",
              "│ Pam Beesly     ┆ 6          ┆ 1641   │\n",
              "│ …              ┆ …          ┆ …      │\n",
              "│ Jim Halpert    ┆ 7          ┆ 2002   │\n",
              "│ Kevin Malone   ┆ 1          ┆ 290    │\n",
              "│ Kelly Kapoor   ┆ 4          ┆ 1170   │\n",
              "│ Stanley Hudson ┆ 4          ┆ 1186   │\n",
              "└────────────────┴────────────┴────────┘"
            ],
            "text/html": [
              "<div><style>\n",
              ".dataframe > thead > tr,\n",
              ".dataframe > tbody > tr {\n",
              "  text-align: right;\n",
              "  white-space: pre-wrap;\n",
              "}\n",
              "</style>\n",
              "<small>shape: (10, 3)</small><table border=\"1\" class=\"dataframe\"><thead><tr><th>character</th><th>num_quotes</th><th>id_sum</th></tr><tr><td>str</td><td>u32</td><td>i64</td></tr></thead><tbody><tr><td>&quot;Michael Scott&quot;</td><td>131</td><td>8646</td></tr><tr><td>&quot;Dwight Schrute…</td><td>126</td><td>24507</td></tr><tr><td>&quot;Creed Bratton&quot;</td><td>13</td><td>3432</td></tr><tr><td>&quot;Pam Beesly&quot;</td><td>6</td><td>1641</td></tr><tr><td>&quot;Angela Martin&quot;</td><td>3</td><td>834</td></tr><tr><td>&quot;Andy Bernard&quot;</td><td>3</td><td>843</td></tr><tr><td>&quot;Jim Halpert&quot;</td><td>7</td><td>2002</td></tr><tr><td>&quot;Kevin Malone&quot;</td><td>1</td><td>290</td></tr><tr><td>&quot;Kelly Kapoor&quot;</td><td>4</td><td>1170</td></tr><tr><td>&quot;Stanley Hudson…</td><td>4</td><td>1186</td></tr></tbody></table></div>"
            ]
          },
          "metadata": {},
          "execution_count": 38
        }
      ]
    },
    {
      "cell_type": "markdown",
      "source": [
        "Combinations"
      ],
      "metadata": {
        "id": "bmvP4WCNpYeF"
      }
    },
    {
      "cell_type": "code",
      "source": [
        "quotes_df_x = quotes_df.with_columns((pl.col(\"character\") + pl.col(\"quote\")).alias(\"character + quote\")).select(\n",
        "    pl.all().exclude([\"id\", \"character_avatar_url\", \"character\", \"quote\"])\n",
        ")\n",
        "\n",
        "print(quotes_df_x)"
      ],
      "metadata": {
        "colab": {
          "base_uri": "https://localhost:8080/"
        },
        "id": "nBH0i4RHoguu",
        "outputId": "dc074b6c-2a77-4ff6-cb2a-819ec822d492"
      },
      "execution_count": 45,
      "outputs": [
        {
          "output_type": "stream",
          "name": "stdout",
          "text": [
            "shape: (298, 1)\n",
            "┌───────────────────────────────────┐\n",
            "│ character + quote                 │\n",
            "│ ---                               │\n",
            "│ str                               │\n",
            "╞═══════════════════════════════════╡\n",
            "│ Michael ScottWould I rather be f… │\n",
            "│ Michael ScottWikipedia is the be… │\n",
            "│ Michael ScottGuess what, I have … │\n",
            "│ Michael ScottIf I had a gun with… │\n",
            "│ …                                 │\n",
            "│ Stanley HudsonDid I stutter?      │\n",
            "│ Stanley HudsonI wake up every mo… │\n",
            "│ Stanley HudsonIt's like I used t… │\n",
            "│ Stanley HudsonBoy, have you lost… │\n",
            "└───────────────────────────────────┘\n"
          ]
        }
      ]
    },
    {
      "cell_type": "code",
      "source": [
        "stacked = quotes_df.hstack(quotes_df_x)\n",
        "print(stacked)"
      ],
      "metadata": {
        "colab": {
          "base_uri": "https://localhost:8080/"
        },
        "id": "HsW6QuFVqUzl",
        "outputId": "9e55a2ca-960c-4469-97ab-5a495f4eabbe"
      },
      "execution_count": 47,
      "outputs": [
        {
          "output_type": "stream",
          "name": "stdout",
          "text": [
            "shape: (298, 5)\n",
            "┌─────┬────────────────┬─────────────────────────┬────────────────────────┬────────────────────────┐\n",
            "│ id  ┆ character      ┆ quote                   ┆ character_avatar_url   ┆ character + quote      │\n",
            "│ --- ┆ ---            ┆ ---                     ┆ ---                    ┆ ---                    │\n",
            "│ i64 ┆ str            ┆ str                     ┆ str                    ┆ str                    │\n",
            "╞═════╪════════════════╪═════════════════════════╪════════════════════════╪════════════════════════╡\n",
            "│ 1   ┆ Michael Scott  ┆ Would I rather be       ┆ https://i.gyazo.com/5a ┆ Michael ScottWould I   │\n",
            "│     ┆                ┆ feared or love…         ┆ 3113ead3f3…            ┆ rather be f…           │\n",
            "│ 2   ┆ Michael Scott  ┆ Wikipedia is the best   ┆ https://i.gyazo.com/5a ┆ Michael ScottWikipedia │\n",
            "│     ┆                ┆ thing ever…             ┆ 3113ead3f3…            ┆ is the be…             │\n",
            "│ 3   ┆ Michael Scott  ┆ Guess what, I have      ┆ https://i.gyazo.com/5a ┆ Michael ScottGuess     │\n",
            "│     ┆                ┆ flaws. What a…          ┆ 3113ead3f3…            ┆ what, I have …         │\n",
            "│ 4   ┆ Michael Scott  ┆ If I had a gun with two ┆ https://i.gyazo.com/5a ┆ Michael ScottIf I had  │\n",
            "│     ┆                ┆ bullets …               ┆ 3113ead3f3…            ┆ a gun with…            │\n",
            "│ …   ┆ …              ┆ …                       ┆ …                      ┆ …                      │\n",
            "│ 295 ┆ Stanley Hudson ┆ Did I stutter?          ┆ https://i.gyazo.com/78 ┆ Stanley HudsonDid I    │\n",
            "│     ┆                ┆                         ┆ f18dbfab67…            ┆ stutter?               │\n",
            "│ 296 ┆ Stanley Hudson ┆ I wake up every morning ┆ https://i.gyazo.com/78 ┆ Stanley HudsonI wake   │\n",
            "│     ┆                ┆ in a bed…               ┆ f18dbfab67…            ┆ up every mo…           │\n",
            "│ 297 ┆ Stanley Hudson ┆ It's like I used to     ┆ https://i.gyazo.com/78 ┆ Stanley HudsonIt's     │\n",
            "│     ┆                ┆ tell my wife…           ┆ f18dbfab67…            ┆ like I used t…         │\n",
            "│ 298 ┆ Stanley Hudson ┆ Boy, have you lost your ┆ https://i.gyazo.com/78 ┆ Stanley HudsonBoy,     │\n",
            "│     ┆                ┆ mind, 'c…               ┆ f18dbfab67…            ┆ have you lost…         │\n",
            "└─────┴────────────────┴─────────────────────────┴────────────────────────┴────────────────────────┘\n"
          ]
        }
      ]
    },
    {
      "cell_type": "code",
      "source": [
        "# datatypes of join keys have to match\n",
        "joined = quotes_df.join(quotes_df_x, left_on=\"id\", right_on=\"character + quote\")\n",
        "print(joined)"
      ],
      "metadata": {
        "colab": {
          "base_uri": "https://localhost:8080/",
          "height": 382
        },
        "id": "rpySP-eupaGI",
        "outputId": "db6aea45-5480-42c6-80ea-1d923f89f9d9"
      },
      "execution_count": 48,
      "outputs": [
        {
          "output_type": "error",
          "ename": "ComputeError",
          "evalue": "datatypes of join keys don't match - `id`: i64 on left does not match `character + quote`: str on right",
          "traceback": [
            "\u001b[0;31m---------------------------------------------------------------------------\u001b[0m",
            "\u001b[0;31mComputeError\u001b[0m                              Traceback (most recent call last)",
            "\u001b[0;32m<ipython-input-48-9ade2b414d35>\u001b[0m in \u001b[0;36m<cell line: 2>\u001b[0;34m()\u001b[0m\n\u001b[1;32m      1\u001b[0m \u001b[0;31m# datatypes of join keys have to match\u001b[0m\u001b[0;34m\u001b[0m\u001b[0;34m\u001b[0m\u001b[0m\n\u001b[0;32m----> 2\u001b[0;31m \u001b[0mjoined\u001b[0m \u001b[0;34m=\u001b[0m \u001b[0mquotes_df\u001b[0m\u001b[0;34m.\u001b[0m\u001b[0mjoin\u001b[0m\u001b[0;34m(\u001b[0m\u001b[0mquotes_df_x\u001b[0m\u001b[0;34m,\u001b[0m \u001b[0mleft_on\u001b[0m\u001b[0;34m=\u001b[0m\u001b[0;34m\"id\"\u001b[0m\u001b[0;34m,\u001b[0m \u001b[0mright_on\u001b[0m\u001b[0;34m=\u001b[0m\u001b[0;34m\"character + quote\"\u001b[0m\u001b[0;34m)\u001b[0m\u001b[0;34m\u001b[0m\u001b[0;34m\u001b[0m\u001b[0m\n\u001b[0m\u001b[1;32m      3\u001b[0m \u001b[0mprint\u001b[0m\u001b[0;34m(\u001b[0m\u001b[0mjoined\u001b[0m\u001b[0;34m)\u001b[0m\u001b[0;34m\u001b[0m\u001b[0;34m\u001b[0m\u001b[0m\n",
            "\u001b[0;32m/usr/local/lib/python3.10/dist-packages/polars/dataframe/frame.py\u001b[0m in \u001b[0;36mjoin\u001b[0;34m(self, other, on, how, left_on, right_on, suffix, validate, join_nulls)\u001b[0m\n\u001b[1;32m   6284\u001b[0m \u001b[0;34m\u001b[0m\u001b[0m\n\u001b[1;32m   6285\u001b[0m         return (\n\u001b[0;32m-> 6286\u001b[0;31m             \u001b[0mself\u001b[0m\u001b[0;34m.\u001b[0m\u001b[0mlazy\u001b[0m\u001b[0;34m(\u001b[0m\u001b[0;34m)\u001b[0m\u001b[0;34m\u001b[0m\u001b[0;34m\u001b[0m\u001b[0m\n\u001b[0m\u001b[1;32m   6287\u001b[0m             .join(\n\u001b[1;32m   6288\u001b[0m                 \u001b[0mother\u001b[0m\u001b[0;34m=\u001b[0m\u001b[0mother\u001b[0m\u001b[0;34m.\u001b[0m\u001b[0mlazy\u001b[0m\u001b[0;34m(\u001b[0m\u001b[0;34m)\u001b[0m\u001b[0;34m,\u001b[0m\u001b[0;34m\u001b[0m\u001b[0;34m\u001b[0m\u001b[0m\n",
            "\u001b[0;32m/usr/local/lib/python3.10/dist-packages/polars/lazyframe/frame.py\u001b[0m in \u001b[0;36mcollect\u001b[0;34m(self, type_coercion, predicate_pushdown, projection_pushdown, simplify_expression, slice_pushdown, comm_subplan_elim, comm_subexpr_elim, no_optimization, streaming, _eager)\u001b[0m\n\u001b[1;32m   1704\u001b[0m             \u001b[0m_eager\u001b[0m\u001b[0;34m,\u001b[0m\u001b[0;34m\u001b[0m\u001b[0;34m\u001b[0m\u001b[0m\n\u001b[1;32m   1705\u001b[0m         )\n\u001b[0;32m-> 1706\u001b[0;31m         \u001b[0;32mreturn\u001b[0m \u001b[0mwrap_df\u001b[0m\u001b[0;34m(\u001b[0m\u001b[0mldf\u001b[0m\u001b[0;34m.\u001b[0m\u001b[0mcollect\u001b[0m\u001b[0;34m(\u001b[0m\u001b[0;34m)\u001b[0m\u001b[0;34m)\u001b[0m\u001b[0;34m\u001b[0m\u001b[0;34m\u001b[0m\u001b[0m\n\u001b[0m\u001b[1;32m   1707\u001b[0m \u001b[0;34m\u001b[0m\u001b[0m\n\u001b[1;32m   1708\u001b[0m     \u001b[0;34m@\u001b[0m\u001b[0moverload\u001b[0m\u001b[0;34m\u001b[0m\u001b[0;34m\u001b[0m\u001b[0m\n",
            "\u001b[0;31mComputeError\u001b[0m: datatypes of join keys don't match - `id`: i64 on left does not match `character + quote`: str on right"
          ]
        }
      ]
    }
  ]
}